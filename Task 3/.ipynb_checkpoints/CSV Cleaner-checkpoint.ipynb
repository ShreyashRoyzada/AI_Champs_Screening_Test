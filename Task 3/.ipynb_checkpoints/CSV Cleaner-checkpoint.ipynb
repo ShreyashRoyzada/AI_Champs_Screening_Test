{
 "cells": [
  {
   "cell_type": "code",
   "execution_count": 5,
   "metadata": {},
   "outputs": [],
   "source": [
    "import pandas as pd\n",
    "import os\n",
    "\n",
    "comdir=os.path.normpath(os.getcwd()+os.sep+os.pardir)\n",
    "\n",
    "os.chdir(comdir+'\\Task 2')\n",
    "pd.set_option('display.max_colwidth',100)\n",
    "data = pd.read_csv(\"Task2.csv\")\n",
    "data.columns = ['S_no.','Text']\n"
   ]
  },
  {
   "cell_type": "code",
   "execution_count": 6,
   "metadata": {},
   "outputs": [],
   "source": [
    "#Removing Punctuations\n",
    "import string\n",
    "def removepunct(text):\n",
    "    txt_nopunct = \"\".join([c for c in text if c not in string.punctuation])\n",
    "    return txt_nopunct\n",
    "\n",
    "def removenums(text):\n",
    "    txt_nonum = \"\".join([c for c in text if not c.isdigit()])\n",
    "    return txt_nonum\n",
    "\n",
    "data['no_punct_no_integers'] = data['Text'].apply(lambda x: removepunct(x))\n",
    "data['no_punct_no_integers'] = data['Text'].apply(lambda x: removenums(x))"
   ]
  },
  {
   "cell_type": "code",
   "execution_count": 7,
   "metadata": {},
   "outputs": [],
   "source": [
    "#Tokenizing Data\n",
    "import re\n",
    "\n",
    "def tokenize(text):\n",
    "    tokens=re.split('\\W+',text)\n",
    "    return tokens\n",
    "\n",
    "data['tokenized']= data['no_punct_no_integers'].apply(lambda x: tokenize(x.lower()))"
   ]
  },
  {
   "cell_type": "code",
   "execution_count": 8,
   "metadata": {},
   "outputs": [],
   "source": [
    "#Removing stop words\n",
    "\n",
    "import nltk\n",
    "stopword = nltk.corpus.stopwords.words('english')\n",
    "stopword.append('')\n",
    "\n",
    "def rem_stopwords(toktext):\n",
    "    clean = [word for word in toktext if word not in stopword]\n",
    "    return clean\n",
    "\n",
    "data['No_Stop_words']=data['tokenized'].apply(lambda x: rem_stopwords(x))"
   ]
  },
  {
   "cell_type": "code",
   "execution_count": 9,
   "metadata": {},
   "outputs": [],
   "source": [
    "#Most Frequent words in each \n",
    "\n",
    "from collections import Counter\n",
    "\n",
    "def freq(txt):\n",
    "        most_common_words= [word for word, word_count in Counter(txt).most_common(10)]\n",
    "        return most_common_words\n",
    "    \n",
    "def join(lst):\n",
    "    strn=' '\n",
    "    for i in lst:\n",
    "        strn=strn+i+' '\n",
    "    return strn\n",
    "data['No_Stop_words_Joined']=data['No_Stop_words'].apply(lambda x: join(x))\n",
    "data['Top_10_Most_Freq_Words']=data['No_Stop_words'].apply(lambda x: freq(x))"
   ]
  },
  {
   "cell_type": "code",
   "execution_count": 10,
   "metadata": {},
   "outputs": [],
   "source": [
    "#Calculating the essential words\n",
    "\n",
    "import math\n",
    "from textblob import TextBlob as tb\n",
    "\n",
    "\n",
    "def tf(word,doc):\n",
    "    return doc.words.count(word)/len(doc.words)\n",
    "\n",
    "def contains(word,docs):\n",
    "    return sum(1 for doc in docs if word in doc.words)\n",
    "\n",
    "def idf(word,docs):\n",
    "    return math.log(len(docs)/ (1+ contains(word,docs)))\n",
    "\n",
    "def tfidf(word,doc,docs):\n",
    "    return tf(word,doc) * idf(word,docs)\n",
    "\n",
    "docs=[]\n",
    "for i in data['No_Stop_words_Joined']:\n",
    "    d=tb(i)\n",
    "    docs.append(d)\n",
    "\n",
    "j=[]\n",
    "for i, doc in enumerate(docs):\n",
    "    scores  = {word: tfidf(word,doc,docs) for word in doc.words}\n",
    "    sorted_words = sorted(scores.items(), key = lambda x: x[1], reverse=True)\n",
    "    \n",
    "    temp=' '\n",
    "    for word, score in sorted_words[:10]:\n",
    "        temp=temp+word+' '\n",
    "    j.append(temp)\n",
    "\n",
    "data['Top_10_Most_Essential_Words']=j\n",
    "os.chdir(comdir+'\\Task 3')\n",
    "data.to_csv('Task3.csv',index=False)"
   ]
  },
  {
   "cell_type": "code",
   "execution_count": null,
   "metadata": {},
   "outputs": [],
   "source": []
  },
  {
   "cell_type": "code",
   "execution_count": null,
   "metadata": {},
   "outputs": [],
   "source": []
  }
 ],
 "metadata": {
  "kernelspec": {
   "display_name": "Python 3",
   "language": "python",
   "name": "python3"
  },
  "language_info": {
   "codemirror_mode": {
    "name": "ipython",
    "version": 3
   },
   "file_extension": ".py",
   "mimetype": "text/x-python",
   "name": "python",
   "nbconvert_exporter": "python",
   "pygments_lexer": "ipython3",
   "version": "3.8.3"
  }
 },
 "nbformat": 4,
 "nbformat_minor": 4
}
